{
 "cells": [
  {
   "cell_type": "markdown",
   "id": "7031486c-d2fd-4035-97a0-e58c7017dd0b",
   "metadata": {},
   "source": [
    "# **World Bank World Development Indicators WDI dataset**\n",
    "    \n",
    ">The World Development Indicators is a compilation of relevant, high-quality, and internationally comparable statistics about global development and the fight against poverty. The database contains 1,400 time series indicators for 217 economies and more than 40 country groups, with data for many indicators going back more than 50 years.\n",
    "\n",
    ">https://datatopics.worldbank.org/world-development-indicators/"
   ]
  },
  {
   "cell_type": "markdown",
   "id": "b9a19ce7-e125-42c2-b662-9c5491ca2edd",
   "metadata": {},
   "source": [
    "# Q1 How to read the csv file and name the dataframe as df?"
   ]
  },
  {
   "cell_type": "code",
   "execution_count": null,
   "id": "29a38f02-60e9-4fdc-a22e-59bd1fd2b52e",
   "metadata": {},
   "outputs": [],
   "source": [
    "import pandas as pd\n",
    "from pathlib import Path\n",
    "\n",
    "df = pd.read_csv(\n",
    "    Path.home()\n",
    "    / \"OneDrive\"\n",
    "    / \"Rawdata\"\n",
    "    / \"World Bank World Development Index\"\n",
    "    / \"WDI_csv\"\n",
    "    / \"WDIData.csv\",\n",
    "    na_values=\"..\",\n",
    ")\n"
   ]
  },
  {
   "cell_type": "markdown",
   "id": "bea37271",
   "metadata": {},
   "source": [
    "### If you are using Windows, for example the path is: 'C:/Users/XXX/Desktop/df.csv'\n",
    "### If your file is xlsx, please use pd.read_excel()"
   ]
  },
  {
   "cell_type": "code",
   "execution_count": null,
   "id": "31486ef2-e1ba-4392-9611-cab3ef0d39ef",
   "metadata": {
    "scrolled": true
   },
   "outputs": [],
   "source": [
    "### Check the first or last few rows\n",
    "df\n",
    "df.head()\n",
    "df.tail()"
   ]
  },
  {
   "cell_type": "markdown",
   "id": "fab972b6-51f6-46b7-9392-3c579633f030",
   "metadata": {},
   "source": [
    "# Q2 What is the type of the dataframe?"
   ]
  },
  {
   "cell_type": "code",
   "execution_count": null,
   "id": "725a4044-7bef-4b1e-ac49-81a9822f4dab",
   "metadata": {},
   "outputs": [],
   "source": [
    "df.dtypes"
   ]
  },
  {
   "cell_type": "markdown",
   "id": "03ddd2b7-ce03-436f-abfb-700aeaeff16e",
   "metadata": {},
   "source": [
    "# Q3 How many columns and rows?"
   ]
  },
  {
   "cell_type": "code",
   "execution_count": null,
   "id": "be400c3f-bb16-4779-a1e1-d002fb15c153",
   "metadata": {
    "scrolled": true
   },
   "outputs": [],
   "source": [
    "df.shape"
   ]
  },
  {
   "cell_type": "markdown",
   "id": "7b38d926-4f2c-485a-b655-400191777d91",
   "metadata": {},
   "source": [
    "# Q4 What are the country names in this dataset?"
   ]
  },
  {
   "cell_type": "code",
   "execution_count": null,
   "id": "9f93f90f-2aef-4c08-b487-2d931dea4aa0",
   "metadata": {},
   "outputs": [],
   "source": [
    "df[\"Country Name\"].unique()"
   ]
  },
  {
   "cell_type": "markdown",
   "id": "83c17563-e532-45dd-ad98-1118e6ee6f28",
   "metadata": {},
   "source": [
    "# Q5 How many indicators and countries?"
   ]
  },
  {
   "cell_type": "code",
   "execution_count": null,
   "id": "0e63bef7-fc32-4e93-a5ad-6546ecf741b7",
   "metadata": {},
   "outputs": [],
   "source": [
    "### Number of unique values\n",
    "df[\"Country Name\"].nunique()"
   ]
  },
  {
   "cell_type": "markdown",
   "id": "226e2878-79f0-4833-abe0-bb052a626444",
   "metadata": {},
   "source": [
    "# Q6 How to drop and keep certain columns?"
   ]
  },
  {
   "cell_type": "code",
   "execution_count": null,
   "id": "c3b7e2e2-e06e-4bac-b913-b06a8cc7f9a1",
   "metadata": {},
   "outputs": [],
   "source": [
    "### Drop the last column\n",
    "df = df.drop(columns=[\"Unnamed: 67\"])\n",
    "df.head(3)"
   ]
  },
  {
   "cell_type": "code",
   "execution_count": null,
   "id": "472fa931-2641-4387-865f-0a854e7ced63",
   "metadata": {},
   "outputs": [],
   "source": [
    "### Keep the certain columns\n",
    "df_col = df[[\"Country Name\", \"Indicator Name\", \"1996\", \"2020\"]]\n",
    "df_col"
   ]
  },
  {
   "cell_type": "markdown",
   "id": "2035b1f0-b21f-4834-8c84-8cfb3516d86f",
   "metadata": {},
   "source": [
    "# Q7 How to drop and keep certain rows?"
   ]
  },
  {
   "cell_type": "code",
   "execution_count": null,
   "id": "cb5a8a39-6827-478b-8f6e-7e107eee9cb0",
   "metadata": {},
   "outputs": [],
   "source": [
    "### Drop the first row by index\n",
    "df_drop0 = df.drop(df.index[0])"
   ]
  },
  {
   "cell_type": "code",
   "execution_count": null,
   "id": "ed5bec23-6396-4118-8bf5-13e9d83900f1",
   "metadata": {},
   "outputs": [],
   "source": [
    "### keep rows based on conditions\n",
    "df_US = df[df[\"Country Name\"] == \"United States\"]"
   ]
  },
  {
   "cell_type": "code",
   "execution_count": null,
   "id": "d42f129b-c4db-4971-8f97-a7ce4622f453",
   "metadata": {},
   "outputs": [],
   "source": [
    "df_US_hiv = df[\n",
    "    (df[\"Country Name\"] == \"United States\")\n",
    "    & (df[\"Indicator Name\"] == \"Young people (ages 15-24) newly infected with HIV\")\n",
    "]\n",
    "\n",
    "df_US_hiv.head()"
   ]
  },
  {
   "cell_type": "markdown",
   "id": "14e0e19e-7dbd-4941-94cc-32df1beda6b0",
   "metadata": {},
   "source": [
    "# Q8 How to reshape data?\n",
    "## Pandas provides multiple methods like melt(), pivot_table(), stack(), unstack() ,etc to reshape data.\n",
    "### https://pandas.pydata.org/pandas-docs/stable/user_guide/reshaping.html"
   ]
  },
  {
   "cell_type": "markdown",
   "id": "b092f72f-7418-43aa-b361-9c26729f9143",
   "metadata": {},
   "source": [
    "## 1) melt(). This function is used to transform or reshape data from a wide format to a long format. It essentially unpivots the DataFrame, converting columns into rows.\n",
    "### https://pandas.pydata.org/pandas-docs/stable/reference/api/pandas.DataFrame.melt.html#pandas.DataFrame.melt\n",
    "\n",
    "### Key parameters:\n",
    "#### id_vars: A list or tuple of column names to use as identifier variables. These columns will remain as columns in the resulting DataFrame.\n",
    "#### value_vars: A list or tuple of column names to unpivot. These columns will be converted into a single column in the resulting DataFrame.\n",
    "#### var_name: The name to use for the column that contains the variable names (default is 'variable').\n",
    "#### value_name: The name to use for the column that contains the values (default is 'value')."
   ]
  },
  {
   "cell_type": "code",
   "execution_count": null,
   "id": "98067bc5-08ea-4b64-8e42-e855def9aba3",
   "metadata": {},
   "outputs": [],
   "source": [
    "# df_US"
   ]
  },
  {
   "cell_type": "code",
   "execution_count": null,
   "id": "08eb04c9-459c-48d1-aca9-06de38b37403",
   "metadata": {},
   "outputs": [],
   "source": [
    "df_hiv_melt = df_US_hiv.drop(columns=\"Indicator Code\").melt(\n",
    "    id_vars=[\"Country Name\", \"Country Code\", \"Indicator Name\"],\n",
    "    var_name=[\"Year\"],\n",
    "    value_name=\"Young people (ages 15-24) newly infected with HIV\",\n",
    ")\n",
    "\n",
    "df_hiv_melt.head()"
   ]
  },
  {
   "cell_type": "code",
   "execution_count": null,
   "id": "30cc11dd-7ded-48c9-a42a-6aaae8b05a52",
   "metadata": {},
   "outputs": [],
   "source": [
    "df_melt = df_US.drop(columns=\"Indicator Code\").melt(\n",
    "    id_vars=[\"Country Name\", \"Country Code\", \"Indicator Name\"], var_name=[\"Year\"]\n",
    ")\n",
    "\n",
    "df_melt.head()"
   ]
  },
  {
   "cell_type": "markdown",
   "id": "f6fc03c2-3a7d-4a5a-af88-239870aeda9e",
   "metadata": {},
   "source": [
    "## 2） pivot_table(). This function is used to create a pivot table from a DataFrame. It allows you to summarize and aggregate data based on one or more columns, providing insights into the relationships between different variables.\n",
    "### https://pandas.pydata.org/pandas-docs/stable/reference/api/pandas.pivot_table.html#pandas.pivot_table\n",
    "\n",
    "### key parameters:\n",
    "\n",
    "#### data: The DataFrame to be used for creating the pivot table.\n",
    "#### values: The column(s) to aggregate.\n",
    "#### index: The column(s) to be used as the index of the resulting pivot table.\n",
    "#### columns: The column(s) to be used as the columns of the resulting pivot table.\n",
    "#### aggfunc: The aggregation function(s) to apply to the values. It can be a single function, a list of functions, or a dictionary mapping columns to functions.\n",
    "#### fill_value: The value to replace missing values with (default is None)."
   ]
  },
  {
   "cell_type": "code",
   "execution_count": null,
   "id": "4846e508-5f1c-4339-b919-c5501219f62c",
   "metadata": {},
   "outputs": [],
   "source": [
    "df_pivottable = df_melt.pivot_table(\n",
    "    values=\"value\",\n",
    "    index=[\"Country Name\", \"Country Code\", \"Year\"],\n",
    "    columns=\"Indicator Name\",\n",
    ")\n",
    "\n",
    "df_pivottable.head()"
   ]
  },
  {
   "cell_type": "code",
   "execution_count": null,
   "id": "e46dbab1-c5f9-48d5-a196-da84dade73a6",
   "metadata": {},
   "outputs": [],
   "source": [
    "# reset_index()\n",
    "# rename_axis\n",
    "WDI_US = df_pivottable.reset_index().rename_axis(\"\", axis=1)\n",
    "WDI_US.head()"
   ]
  },
  {
   "cell_type": "markdown",
   "id": "90a0ef78-b380-4d56-8f7a-da1d6d59eb3f",
   "metadata": {},
   "source": [
    "# Q9 How to export data to csv or xlsx?"
   ]
  },
  {
   "cell_type": "code",
   "execution_count": null,
   "id": "d0cc7dab-25a2-4da5-8856-7c65516fe301",
   "metadata": {},
   "outputs": [],
   "source": [
    "WDI_US.to_csv(\n",
    "    Path.home() / \"OneDrive\" / \"2024\" / \"Big Data Analysis\" / \"WDI_US.csv\", index=False\n",
    ")"
   ]
  },
  {
   "cell_type": "code",
   "execution_count": null,
   "id": "05fafaf7-89cc-4bc5-9b1f-df5d04c563d7",
   "metadata": {},
   "outputs": [],
   "source": [
    "WDI_US.head()"
   ]
  },
  {
   "cell_type": "markdown",
   "id": "ac1c1cca-9f56-4aa2-844a-9645ba8b5cf1",
   "metadata": {},
   "source": [
    "# Q10 How many missing values for each variable?"
   ]
  },
  {
   "cell_type": "code",
   "execution_count": null,
   "id": "1ed56e80-d925-4c09-9a83-d14189158c85",
   "metadata": {},
   "outputs": [],
   "source": [
    "isna_data = WDI_US.isna().sum().sort_values(ascending=True)\n",
    "isna_data"
   ]
  },
  {
   "cell_type": "code",
   "execution_count": null,
   "id": "830d19c4-f43a-443a-9e71-a5180de419bb",
   "metadata": {},
   "outputs": [],
   "source": [
    "count_data = WDI_US.count().sort_values(ascending=False)\n",
    "count_data"
   ]
  }
 ],
 "metadata": {
  "kernelspec": {
   "display_name": "Python 3 (ipykernel)",
   "language": "python",
   "name": "python3"
  },
  "language_info": {
   "codemirror_mode": {
    "name": "ipython",
    "version": 3
   },
   "file_extension": ".py",
   "mimetype": "text/x-python",
   "name": "python",
   "nbconvert_exporter": "python",
   "pygments_lexer": "ipython3",
   "version": "3.11.4"
  }
 },
 "nbformat": 4,
 "nbformat_minor": 5
}
